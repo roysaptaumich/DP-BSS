{
 "cells": [
  {
   "cell_type": "code",
   "execution_count": 2,
   "id": "d9ca2924-2c9b-4037-8007-a97e7101abb3",
   "metadata": {},
   "outputs": [
    {
     "name": "stdout",
     "output_type": "stream",
     "text": [
      "Collecting cvxpy\n",
      "  Downloading cvxpy-1.4.3-cp39-cp39-macosx_10_9_x86_64.whl (1.1 MB)\n",
      "\u001b[K     |████████████████████████████████| 1.1 MB 2.7 MB/s eta 0:00:01\n",
      "\u001b[?25hCollecting clarabel>=0.5.0\n",
      "  Downloading clarabel-0.7.1-cp37-abi3-macosx_10_12_x86_64.whl (456 kB)\n",
      "\u001b[K     |████████████████████████████████| 456 kB 20.8 MB/s eta 0:00:01\n",
      "\u001b[?25hCollecting osqp>=0.6.2\n",
      "  Downloading osqp-0.6.5-cp39-cp39-macosx_10_9_x86_64.whl (254 kB)\n",
      "\u001b[K     |████████████████████████████████| 254 kB 27.1 MB/s eta 0:00:01\n",
      "\u001b[?25hRequirement already satisfied: numpy>=1.15 in /Users/roysapta/opt/anaconda3/lib/python3.9/site-packages (from cvxpy) (1.22.4)\n",
      "Collecting pybind11\n",
      "  Downloading pybind11-2.12.0-py3-none-any.whl (234 kB)\n",
      "\u001b[K     |████████████████████████████████| 234 kB 19.7 MB/s eta 0:00:01\n",
      "\u001b[?25hCollecting scs>=3.0\n",
      "  Downloading scs-3.2.4.post1-cp39-cp39-macosx_10_9_x86_64.whl (108 kB)\n",
      "\u001b[K     |████████████████████████████████| 108 kB 20.2 MB/s eta 0:00:01\n",
      "\u001b[?25hCollecting ecos>=2\n",
      "  Downloading ecos-2.0.13-cp39-cp39-macosx_10_9_x86_64.whl (90 kB)\n",
      "\u001b[K     |████████████████████████████████| 90 kB 12.9 MB/s eta 0:00:01\n",
      "\u001b[?25hRequirement already satisfied: scipy>=1.1.0 in /Users/roysapta/opt/anaconda3/lib/python3.9/site-packages (from cvxpy) (1.7.3)\n",
      "Collecting qdldl\n",
      "  Downloading qdldl-0.1.7.post2-cp39-cp39-macosx_10_9_x86_64.whl (108 kB)\n",
      "\u001b[K     |████████████████████████████████| 108 kB 19.3 MB/s eta 0:00:01\n",
      "\u001b[?25hInstalling collected packages: qdldl, scs, pybind11, osqp, ecos, clarabel, cvxpy\n",
      "Successfully installed clarabel-0.7.1 cvxpy-1.4.3 ecos-2.0.13 osqp-0.6.5 pybind11-2.12.0 qdldl-0.1.7.post2 scs-3.2.4.post1\n",
      "Note: you may need to restart the kernel to use updated packages.\n"
     ]
    }
   ],
   "source": [
    "pip install cvxpy"
   ]
  },
  {
   "cell_type": "code",
   "execution_count": 3,
   "id": "bbee53ff-ecbc-4132-b719-76be7b4dbc26",
   "metadata": {},
   "outputs": [],
   "source": [
    "import numpy as np\n",
    "from sklearn.linear_model import LassoCV\n",
    "from sklearn.linear_model import LinearRegression as LR\n",
    "from sklearn.preprocessing import StandardScaler\n",
    "from sklearn.preprocessing import normalize\n",
    "from scipy import stats\n",
    "from scipy.special import binom\n",
    "import matplotlib.pyplot as plt\n",
    "import time \n",
    "import cvxpy as cp\n",
    "import abess\n",
    "from abess.linear import LinearRegression\n",
    "from scipy.linalg import toeplitz\n",
    "import gurobipy as gp"
   ]
  },
  {
   "cell_type": "code",
   "execution_count": 4,
   "id": "d3b8bd41-789d-4a95-a2fb-04a72a09608d",
   "metadata": {},
   "outputs": [],
   "source": [
    "'''\n",
    "S <- stored as p-dim np array of 0,1 indicating which variables active\n",
    "\n",
    "'''\n",
    "\n",
    "\n",
    "\n",
    "def compare_to_rows(SS, S):\n",
    "    # S <- p-dim array, SS <- (m,p) array\n",
    "    # returns -1 if not present otherwise row number\n",
    "    logic = np.any(np.all(SS == S, axis =1))\n",
    "    if logic == True:\n",
    "        return np.where(logic == True)[0][0]\n",
    "    else:\n",
    "        return -1\n",
    "\n",
    "\n",
    "class ebreg:\n",
    "\n",
    "    def __init__(self, tuning_parameters):\n",
    "\n",
    "        #tuning parameters <- dictionary\n",
    "        self.s = tuning_parameters['s']\n",
    "        self.B = tuning_parameters['B']\n",
    "        self.epsilon = tuning_parameters['epsilon']\n",
    "        self.sensitivity_scaling = tuning_parameters['sensitivity_scaling']\n",
    "\n",
    "        # MCMC parameters\n",
    "        self.max_iter = tuning_parameters['max_iter']\n",
    "        \n",
    "        # some options\n",
    "        self.standardize = tuning_parameters[\"standardization\"]\n",
    "        self.initialization = tuning_parameters[\"initialization\"]\n",
    "\n",
    "    def fit(self, X, y):\n",
    "        self.n, self.p = X.shape\n",
    "        #if self.n >= 100: self.burn_in = 500\n",
    "        # standardize X\n",
    "        if self.standardize is True:\n",
    "            scaler1 = StandardScaler(with_mean=True, with_std=False).fit(X)\n",
    "            X = scaler1.transform(X)\n",
    "\n",
    "            y = y - y.mean()\n",
    "\n",
    "        self.X = X\n",
    "        self.y = y\n",
    "        \n",
    "\n",
    "        self.MCMC()\n",
    "\n",
    "   \n",
    "\n",
    "    def draw_q(self, S):\n",
    "        S1 = S.copy()\n",
    "        s = S.sum()\n",
    "        idx_0 = np.where(S1 == 0)[0]\n",
    "        idx_1 = np.where(S1 == 1)[0]\n",
    "        S1[np.random.choice(idx_1, 1)] = 0\n",
    "        S1[np.random.choice(idx_0, 1)] = 1\n",
    "\n",
    "        return S1\n",
    "\n",
    "    def OLS_pred_and_pi_n(self, S):\n",
    "        X_S = self.X[:, S == 1]\n",
    "        y = self.y\n",
    "\n",
    "        reg = LR(fit_intercept=False).fit(X_S, y)  # what happens when singular\n",
    "        Y_S = reg.predict(X_S)\n",
    "\n",
    "        epsilon = self.epsilon\n",
    "        Du = self.sensitivity_scaling #2 * self.ymax**2 + 2 * self.s * (self.xmax**2) *  self.sensitivity_scaling * sigma2\n",
    "        # s = S.sum()\n",
    "        log_pi_n =  - epsilon * np.linalg.norm(y - Y_S)**2/(Du)  # np.log(gamma + alpha/sigma2)\n",
    "        return Y_S, log_pi_n\n",
    "                    \n",
    "    def regOLS_pred_and_pi_n(self, S):\n",
    "        X_S = self.X[:, S == 1]\n",
    "        y = self.y\n",
    "        \n",
    "        b = cp.Variable(shape = X_S.shape[1])\n",
    "        constraints = [cp.norm1(b) <= B]\n",
    "        \n",
    "        obj = cp.Minimize(cp.sum_squares(X_S@b - y))\n",
    "\n",
    "        # Form and solve problem.\n",
    "        prob = cp.Problem(obj, constraints)\n",
    "        prob.solve() \n",
    "        Y_S = X_S @ b.value\n",
    "        Du = self.sensitivity_scaling #2 * self.ymax**2 + 2 * self.s * (self.xmax**2) *  self.sensitivity_scaling * sigma2\n",
    "        # s = S.sum()\n",
    "        log_pi_n =  - self.epsilon * np.linalg.norm(y - Y_S)**2/(Du)\n",
    "        \n",
    "        return Y_S, log_pi_n\n",
    "    \n",
    "    \n",
    "    def initialize(self):\n",
    "        \n",
    "        S = np.zeros(self.p)\n",
    "        \n",
    "        \n",
    "        if self.initialization == \"Lasso\":\n",
    "            reg = LassoCV(n_alphas=100, fit_intercept=False,\n",
    "                          cv=5, max_iter=2000).fit(self.X, self.y)\n",
    "            scores = np.abs(reg.coef_)\n",
    "            s_max_scores_id = np.argsort(scores)[::-1][:s]\n",
    "            S[s_max_scores_id] = 1\n",
    "        \n",
    "        if self.initialization == \"MS\":\n",
    "            c = X.T@y/self.n\n",
    "            c1 = np.abs(c)\n",
    "            c2 = np.argsort(c1)[::-1][:s]\n",
    "            S[c2] = 1\n",
    "        \n",
    "        else: S[np.random.choice(self.p, self.s, replace= False)] = 1\n",
    "        \n",
    "        self.initial_state = S\n",
    "        \n",
    "        self.S = S\n",
    "        \n",
    "        \n",
    "        return S\n",
    "\n",
    "    def MCMC(self):\n",
    "        max_iter = self.max_iter\n",
    "        \n",
    "        # initialize\n",
    "        S = self.initialize()\n",
    "        self.S_list = [self.S]\n",
    "        Y_S, log_pi_n = self.regOLS_pred_and_pi_n(self.S)\n",
    "        self.Y_S_old = Y_S\n",
    "        self.log_pi_n_list = [log_pi_n]\n",
    "        self.RSS = np.array([np.linalg.norm(self.y - Y_S)**2/np.linalg.norm(self.y)**2])\n",
    "        #self.F1 = [0]\n",
    "\n",
    "        \n",
    "\n",
    "        S = self.S\n",
    "        y = self.y\n",
    "\n",
    "        iter1 = 0\n",
    "        no_acceptances = 0\n",
    "\n",
    "        while (iter1 < max_iter):\n",
    "\n",
    "            # proposal draw\n",
    "            S_new = self.draw_q(S)\n",
    "            Y_S_new, log_pi_n_new = self.regOLS_pred_and_pi_n(S_new)\n",
    "            \n",
    "\n",
    "            # compute hastings ratio\n",
    "            try: HR = np.exp(log_pi_n_new - log_pi_n)\n",
    "            except ValueError: print('Hastings ratio uncomputable')\n",
    "            R = np.min([1, HR])\n",
    "            if stats.uniform.rvs() <= R:\n",
    "                # accept\n",
    "                self.RSS = np.vstack((self.RSS, np.linalg.norm(self.y - Y_S_new)**2/np.linalg.norm(self.y)**2))\n",
    "                self.S_list.pop()\n",
    "                self.S_list.append(S_new)\n",
    "                self.Y_S_old = Y_S_new\n",
    "                S = S_new\n",
    "                log_pi_n = log_pi_n_new\n",
    "                no_acceptances += 1\n",
    "            else:\n",
    "                self.RSS = np.vstack((self.RSS, np.linalg.norm(self.y - self.Y_S_old)**2/np.linalg.norm(self.y)**2))\n",
    "\n",
    "        \n",
    "\n",
    "            iter1 += 1\n",
    "\n",
    "        \n",
    "        self.acceptance = no_acceptances \n"
   ]
  },
  {
   "cell_type": "code",
   "execution_count": 7,
   "id": "301ec319-ee99-4dbb-bd02-3b31085fe4f9",
   "metadata": {},
   "outputs": [],
   "source": [
    "# Example\n",
    "np.random.seed(1)\n",
    "\n",
    "data_type = 'Uniform' # Uniform or ar1\n",
    "n = 900\n",
    "p = 2000\n",
    "s = 4\n",
    "B = 3.5\n",
    "rho = 0.3\n",
    "signal = 'weak'\n",
    "#Sigma = np.eye(p)*(1-rho) + rho * np.ones((p, p))\n",
    "\n",
    "if data_type == 'Uniform':\n",
    "    X = np.random.uniform(-1, 1, n*p).reshape(n,p)\n",
    "    e = np.random.uniform(-0.1, 0.1, size = n)\n",
    "if data_type == 'ar1':  \n",
    "    Sigma = toeplitz([rho**i for i in range(p)])\n",
    "    X = np.random.multivariate_normal(mean = np.zeros(p), cov = Sigma, size = n)\n",
    "    #X = X/np.max(np.abs(X))\n",
    "    scaler1 = StandardScaler(with_mean=True, with_std= True).fit(X)\n",
    "    X = normalize(scaler1.transform(X), axis=0)\n",
    "    e = np.random.uniform(-.1, .1,n)\n",
    "beta = np.zeros(p)\n",
    "\n",
    "if signal == 'weak': beta[0:s] = 2.0 * np.sqrt(1 * np.log(p)/n)\n",
    "else: beta[0:s] = 2.0 * np.sqrt(s * np.log(p)/n)\n",
    "\n",
    "#scaler1 = StandardScaler(with_mean=True, with_std=False).fit(X)\n",
    "#X = scaler1.transform(X)\n",
    "#X = X\n",
    "\n",
    "y = X @ beta + e\n",
    "y1 = y\n",
    "X1 = X"
   ]
  },
  {
   "cell_type": "code",
   "execution_count": 8,
   "id": "c5f1fcac-95a4-47dd-ba78-4e1a36df1cfb",
   "metadata": {},
   "outputs": [
    {
     "name": "stdout",
     "output_type": "stream",
     "text": [
      "17.399388331296915\n"
     ]
    },
    {
     "data": {
      "text/plain": [
       "(0.6712574041045363, 0.7351929130134585)"
      ]
     },
     "execution_count": 8,
     "metadata": {},
     "output_type": "execute_result"
    }
   ],
   "source": [
    "\n",
    "Du = (B * 1 + np.abs(y1).max())**2\n",
    "print(Du)\n",
    "np.abs(y).max(), beta.sum()"
   ]
  },
  {
   "cell_type": "code",
   "execution_count": 9,
   "id": "7385fe5b-838d-4c2c-b881-4e428e944dea",
   "metadata": {},
   "outputs": [
    {
     "name": "stdout",
     "output_type": "stream",
     "text": [
      "1012.7551815509796\n",
      "1010.2512736320496\n",
      "1015.9584033489227\n",
      "1012.9063003063202\n",
      "1035.537309885025\n",
      "1046.2966017723083\n"
     ]
    },
    {
     "data": {
      "text/plain": [
       "<Figure size 640x480 with 0 Axes>"
      ]
     },
     "metadata": {},
     "output_type": "display_data"
    }
   ],
   "source": [
    "eps_list = [0.5, 1, 2.5, 3, 5, 10]\n",
    "for eps in eps_list:\n",
    "    tuning_parameters = {'epsilon': eps,\n",
    "                         'sensitivity_scaling': Du,\n",
    "                         's'      : s,\n",
    "                         'B'      : B,   \n",
    "                         'max_iter': 100000,\n",
    "                        'initialization': 'Random',\n",
    "                        'standardization': False}\n",
    "\n",
    "    model = ebreg(tuning_parameters)\n",
    "\n",
    "    #y = y/np.abs(y).max()\n",
    "\n",
    "    def fit_MCMC(i):\n",
    "        model.fit(X1,y1)\n",
    "        #print(str(i)+'th chain fitting complete')\n",
    "        S_hat = np.where(model.S_list[-1]>0)[0]\n",
    "        S = np.where(beta!=0)[0]\n",
    "        prec = len(np.intersect1d(S_hat, S))/max(1,len(S_hat))\n",
    "        recall = len(np.intersect1d(S_hat, S))/len(S)\n",
    "        F1 = 0\n",
    "        if prec + recall>0: F1 = 2 * (prec * recall)/(prec + recall)\n",
    "        return {'RSS': model.RSS, 'F1': F1}\n",
    "\n",
    "\n",
    "    num_chains = 10 \n",
    "    from joblib import Parallel, delayed\n",
    "\n",
    "    start = time.time()\n",
    "    results = Parallel(n_jobs= num_chains)(delayed(fit_MCMC)(i) for i in range(num_chains))\n",
    "    end = time.time()\n",
    "    print(end-start)\n",
    "    model_abess = LinearRegression(support_size = s)\n",
    "    model_abess.fit(X1, y1)\n",
    "    S_abess = np.where(model_abess.coef_!=0)[0]\n",
    "    S = np.where(beta!=0)[0]\n",
    "    prec = len(np.intersect1d(S_abess, S))/max(1,len(S_abess))\n",
    "    recall = len(np.intersect1d(S_abess, S))/len(S)\n",
    "    F1_abess = 2/(1/prec + 1/recall)\n",
    "\n",
    "    RSS_abess = np.linalg.norm(y1 - X1@model_abess.coef_)**2/np.linalg.norm(y1)**2\n",
    "    RSS_true = np.linalg.norm(y1 - X1@beta)**2/np.linalg.norm(y1)**2\n",
    "\n",
    "    plt.axhline(y = 1- RSS_true, color = 'b', linestyle = '--', label = '$R_{\\gamma^*}$')\n",
    "    plt.axhline(y = 1- RSS_abess, color = 'r', linestyle = '--', label = '$R_{\\gamma_{BSS}}(non-private)$')\n",
    "\n",
    "    for i in range(num_chains):\n",
    "        RSS = results[i]['RSS']\n",
    "        if i==0: plt.plot(range(len(RSS)), (1-RSS), color = 'grey', alpha = 0.3, label = '$R_{\\gamma_{BSS}}(\\epsilon = $' + \n",
    "                          str(tuning_parameters['epsilon']) + ')')\n",
    "        else: plt.plot(range(len(RSS)), (1-RSS), color = 'grey', alpha = 0.3)\n",
    "    \n",
    "    F1 = np.mean([results[i]['F1'] for i in range(num_chains)])\n",
    "    plt.text(1, 0.8, 'Mean F1  = ' + str(F1) + '\\n K = ' + str(B), size = 13, bbox = {'fc': 'wheat', 'alpha':0.8})\n",
    "    #plt.ylim(ymax= 1)\n",
    "    plt.xlabel('iterations', size = 13)\n",
    "    #plt.xlim(xmax = 1e5)\n",
    "    plt.ylabel('$R_\\gamma$', size = 13)\n",
    "    #plt.title()\n",
    "    #plt.yscale('log')  \n",
    "    plt.xscale('log')\n",
    "    plt.legend(loc = 'center left',fontsize = 13)\n",
    "    #plt.show()\n",
    "    name = str(data_type)+'_design_multiple_MH_chain_'+str(num_chains)+'_epsilon_'+str(tuning_parameters['epsilon'])+'_B_'+ str(B)+ '_s_'+str(s)+'_p_'+str(p)+'_n_'+str(n)+'.pdf'\n",
    "\n",
    "    if signal == 'weak': plt.savefig('weak_'+name)\n",
    "    else: plt.savefig(name)\n",
    "    plt.clf()"
   ]
  },
  {
   "cell_type": "code",
   "execution_count": null,
   "id": "fd3d8607-43af-4b47-ac89-18b9035a1a47",
   "metadata": {},
   "outputs": [],
   "source": []
  },
  {
   "cell_type": "code",
   "execution_count": 10,
   "id": "25e3e4d8-ea15-41c3-902f-ccf89a7e1ad4",
   "metadata": {},
   "outputs": [
    {
     "name": "stdout",
     "output_type": "stream",
     "text": [
      "1046.2966017723083\n"
     ]
    },
    {
     "data": {
      "text/plain": [
       "({'MH_mean': 0.275, 'BSS': 1.0}, None)"
      ]
     },
     "execution_count": 10,
     "metadata": {},
     "output_type": "execute_result"
    }
   ],
   "source": [
    "F1 = np.mean([results[i]['F1'] for i in range(num_chains)])\n",
    "F1_dict = {'MH_mean': F1, 'BSS': F1_abess}\n",
    "\n",
    "# if signal == 'weak': np.save('weak_F1'+name, F1_dict, allow_pickle = True)\n",
    "# else: np.save('F1'+name, F1_dict, allow_pickle = True)\n",
    "F1_dict, print(end - start)"
   ]
  },
  {
   "cell_type": "code",
   "execution_count": 19,
   "id": "6b2b4fef-7112-4571-92b0-f6da4e685db4",
   "metadata": {},
   "outputs": [
    {
     "data": {
      "text/plain": [
       "0.23086597382090704"
      ]
     },
     "execution_count": 19,
     "metadata": {},
     "output_type": "execute_result"
    }
   ],
   "source": [
    "RSS_true = np.linalg.norm(y1 - X1@beta * np.abs(X).max()/np.abs(y).max())**2/np.linalg.norm(y1)**2\n",
    "RSS_true"
   ]
  },
  {
   "cell_type": "code",
   "execution_count": 22,
   "id": "ba1e2626-5039-43a0-918f-98b6d12537ce",
   "metadata": {},
   "outputs": [
    {
     "data": {
      "text/plain": [
       "1.688816450596388"
      ]
     },
     "execution_count": 22,
     "metadata": {},
     "output_type": "execute_result"
    }
   ],
   "source": [
    "sum(beta)"
   ]
  },
  {
   "cell_type": "code",
   "execution_count": 28,
   "id": "eb360673-d8e3-409b-9771-5174f76331a3",
   "metadata": {},
   "outputs": [],
   "source": [
    "model.fit(X,y)"
   ]
  },
  {
   "cell_type": "code",
   "execution_count": 27,
   "id": "a8cdb429-d5f7-4eed-b4ba-892ebb788982",
   "metadata": {},
   "outputs": [
    {
     "data": {
      "text/plain": [
       "array([0., 0., 0., 0., 0., 0., 0., 0., 0., 0.])"
      ]
     },
     "execution_count": 27,
     "metadata": {},
     "output_type": "execute_result"
    }
   ],
   "source": [
    "model.S_list[0][:10]"
   ]
  },
  {
   "cell_type": "code",
   "execution_count": 49,
   "id": "b17b9b04-347e-4048-ab75-6529fce96a85",
   "metadata": {},
   "outputs": [
    {
     "data": {
      "text/plain": [
       "(0.24965812470283621, 0.25109691429141046)"
      ]
     },
     "execution_count": 49,
     "metadata": {},
     "output_type": "execute_result"
    }
   ],
   "source": [
    "1-RSS_true, 1- RSS_abess"
   ]
  },
  {
   "cell_type": "code",
   "execution_count": 122,
   "id": "564b59b9-5cd3-4bb8-b221-e0b1bd0ee4fd",
   "metadata": {},
   "outputs": [
    {
     "data": {
      "text/plain": [
       "array({'MH_mean': 0.9, 'BSS': 1.0}, dtype=object)"
      ]
     },
     "execution_count": 122,
     "metadata": {},
     "output_type": "execute_result"
    }
   ],
   "source": [
    "n = 'F1'+name+'.npy'\n",
    "np.load('F1Uniform_design_multiple_MH_chain_10_epsilon_10_s_10_p_2000_n_900.pdf.npy', allow_pickle = True)"
   ]
  },
  {
   "cell_type": "code",
   "execution_count": 27,
   "id": "56771b59-a080-457d-b4a5-1a4caa0fcc98",
   "metadata": {},
   "outputs": [
    {
     "name": "stdout",
     "output_type": "stream",
     "text": [
      "2th chain fitting complete\n"
     ]
    },
    {
     "ename": "ZeroDivisionError",
     "evalue": "float division by zero",
     "output_type": "error",
     "traceback": [
      "\u001b[0;31m---------------------------------------------------------------------------\u001b[0m",
      "\u001b[0;31mZeroDivisionError\u001b[0m                         Traceback (most recent call last)",
      "Cell \u001b[0;32mIn[27], line 1\u001b[0m\n\u001b[0;32m----> 1\u001b[0m \u001b[43mfit_MCMC\u001b[49m\u001b[43m(\u001b[49m\u001b[38;5;241;43m2\u001b[39;49m\u001b[43m)\u001b[49m\n",
      "Cell \u001b[0;32mIn[26], line 18\u001b[0m, in \u001b[0;36mfit_MCMC\u001b[0;34m(i)\u001b[0m\n\u001b[1;32m     16\u001b[0m prec \u001b[38;5;241m=\u001b[39m \u001b[38;5;28mlen\u001b[39m(np\u001b[38;5;241m.\u001b[39mintersect1d(S_hat, S))\u001b[38;5;241m/\u001b[39m\u001b[38;5;28mmax\u001b[39m(\u001b[38;5;241m1\u001b[39m,\u001b[38;5;28mlen\u001b[39m(S_hat))\n\u001b[1;32m     17\u001b[0m recall \u001b[38;5;241m=\u001b[39m \u001b[38;5;28mlen\u001b[39m(np\u001b[38;5;241m.\u001b[39mintersect1d(S_hat, S))\u001b[38;5;241m/\u001b[39m\u001b[38;5;28mlen\u001b[39m(S)\n\u001b[0;32m---> 18\u001b[0m F1 \u001b[38;5;241m=\u001b[39m \u001b[38;5;241;43m2\u001b[39;49m\u001b[43m \u001b[49m\u001b[38;5;241;43m*\u001b[39;49m\u001b[43m \u001b[49m\u001b[43m(\u001b[49m\u001b[43mprec\u001b[49m\u001b[43m \u001b[49m\u001b[38;5;241;43m*\u001b[39;49m\u001b[43m \u001b[49m\u001b[43mrecall\u001b[49m\u001b[43m)\u001b[49m\u001b[38;5;241;43m/\u001b[39;49m\u001b[43m(\u001b[49m\u001b[43mprec\u001b[49m\u001b[43m \u001b[49m\u001b[38;5;241;43m+\u001b[39;49m\u001b[43m \u001b[49m\u001b[43mrecall\u001b[49m\u001b[43m)\u001b[49m\n\u001b[1;32m     19\u001b[0m \u001b[38;5;28;01mreturn\u001b[39;00m {\u001b[38;5;124m'\u001b[39m\u001b[38;5;124mRSS\u001b[39m\u001b[38;5;124m'\u001b[39m: model\u001b[38;5;241m.\u001b[39mRSS, \u001b[38;5;124m'\u001b[39m\u001b[38;5;124mF1\u001b[39m\u001b[38;5;124m'\u001b[39m: F1}\n",
      "\u001b[0;31mZeroDivisionError\u001b[0m: float division by zero"
     ]
    }
   ],
   "source": []
  },
  {
   "cell_type": "code",
   "execution_count": 79,
   "id": "68c58940-b51b-40f9-b4e1-bc34346aa817",
   "metadata": {},
   "outputs": [
    {
     "data": {
      "text/plain": [
       "161.63479946902982"
      ]
     },
     "execution_count": 79,
     "metadata": {},
     "output_type": "execute_result"
    }
   ],
   "source": [
    "\n",
    "X_S = X1[:,np.random.choice(p, s)] # np.random.choice(p, s)\n",
    "y = y1\n",
    "\n",
    "b = cp.Variable(shape = X_S.shape[1])\n",
    "constraints = [cp.norm1(b) <= B]\n",
    "\n",
    "obj = cp.Minimize(cp.sum_squares(X_S@b - y))\n",
    "\n",
    "# Form and solve problem.\n",
    "prob = cp.Problem(obj, constraints)\n",
    "prob.solve() \n"
   ]
  },
  {
   "cell_type": "code",
   "execution_count": 59,
   "id": "45158243-0e18-4c8b-a178-0da91c74cf2e",
   "metadata": {},
   "outputs": [
    {
     "data": {
      "text/plain": [
       "(142.06341132021524, 2)"
      ]
     },
     "execution_count": 59,
     "metadata": {},
     "output_type": "execute_result"
    }
   ],
   "source": [
    "prob.value, B\n"
   ]
  },
  {
   "cell_type": "code",
   "execution_count": 61,
   "id": "373b5dd3-8dd5-41dd-968a-e446611316c3",
   "metadata": {},
   "outputs": [
    {
     "data": {
      "text/plain": [
       "142.06341132021524"
      ]
     },
     "execution_count": 61,
     "metadata": {},
     "output_type": "execute_result"
    }
   ],
   "source": [
    "np.linalg.norm(X_S@b.value - y)**2"
   ]
  },
  {
   "cell_type": "code",
   "execution_count": 53,
   "id": "0e913e38-71d5-4000-8514-9cbb985d1b6a",
   "metadata": {},
   "outputs": [
    {
     "data": {
      "text/plain": [
       "0.0878052498990281"
      ]
     },
     "execution_count": 53,
     "metadata": {},
     "output_type": "execute_result"
    }
   ],
   "source": [
    "sum(abs(b.value))"
   ]
  },
  {
   "cell_type": "code",
   "execution_count": 40,
   "id": "e62e60cb-5005-4193-bc94-5630665dfa28",
   "metadata": {},
   "outputs": [
    {
     "data": {
      "text/plain": [
       "array([5, 0, 2])"
      ]
     },
     "execution_count": 40,
     "metadata": {},
     "output_type": "execute_result"
    }
   ],
   "source": [
    "np.random.choice(6, 3)"
   ]
  },
  {
   "cell_type": "code",
   "execution_count": 82,
   "id": "ee8ffcb8-13e7-42ed-9907-c4cd9d417b78",
   "metadata": {},
   "outputs": [
    {
     "name": "stdout",
     "output_type": "stream",
     "text": [
      "Defaulting to user installation because normal site-packages is not writeable\n",
      "Collecting gurobipy\n",
      "  Downloading gurobipy-11.0.1-cp310-cp310-manylinux2014_x86_64.manylinux_2_17_x86_64.whl (13.4 MB)\n",
      "\u001b[2K     \u001b[90m━━━━━━━━━━━━━━━━━━━━━━━━━━━━━━━━━━━━━━━━\u001b[0m \u001b[32m13.4/13.4 MB\u001b[0m \u001b[31m37.9 MB/s\u001b[0m eta \u001b[36m0:00:00\u001b[0m00:01\u001b[0m0:01\u001b[0m\n",
      "\u001b[?25hInstalling collected packages: gurobipy\n",
      "Successfully installed gurobipy-11.0.1\n",
      "Note: you may need to restart the kernel to use updated packages.\n"
     ]
    }
   ],
   "source": []
  },
  {
   "cell_type": "code",
   "execution_count": null,
   "id": "ea265374-6920-49b8-9a8f-60b44486f877",
   "metadata": {},
   "outputs": [],
   "source": []
  }
 ],
 "metadata": {
  "kernelspec": {
   "display_name": "Python 3 (ipykernel)",
   "language": "python",
   "name": "python3"
  },
  "language_info": {
   "codemirror_mode": {
    "name": "ipython",
    "version": 3
   },
   "file_extension": ".py",
   "mimetype": "text/x-python",
   "name": "python",
   "nbconvert_exporter": "python",
   "pygments_lexer": "ipython3",
   "version": "3.9.12"
  }
 },
 "nbformat": 4,
 "nbformat_minor": 5
}
