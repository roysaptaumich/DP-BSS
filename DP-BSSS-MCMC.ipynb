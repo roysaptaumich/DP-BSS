{
 "cells": [
  {
   "cell_type": "code",
   "execution_count": 2,
   "id": "415a9996-8e14-4ee1-99cc-9f397185b6ae",
   "metadata": {},
   "outputs": [],
   "source": [
    "import numpy as np\n",
    "from sklearn.linear_model import LassoCV\n",
    "from sklearn.linear_model import LinearRegression as LR\n",
    "from sklearn.preprocessing import StandardScaler\n",
    "from scipy import stats\n",
    "from scipy.special import binom\n",
    "import matplotlib.pyplot as plt\n",
    "import time "
   ]
  },
  {
   "cell_type": "code",
   "execution_count": 22,
   "id": "0e582040-b7c3-4eed-9093-65cd4af0fff0",
   "metadata": {},
   "outputs": [],
   "source": [
    "'''\n",
    "S <- stored as p-dim np array of 0,1 indicating which variables active\n",
    "\n",
    "'''\n",
    "\n",
    "\n",
    "\n",
    "def compare_to_rows(SS, S):\n",
    "    # S <- p-dim array, SS <- (m,p) array\n",
    "    # returns -1 if not present otherwise row number\n",
    "    logic = np.any(np.all(SS == S, axis =1))\n",
    "    if logic == True:\n",
    "        return np.where(logic == True)[0][0]\n",
    "    else:\n",
    "        return -1\n",
    "\n",
    "\n",
    "class ebreg:\n",
    "\n",
    "    def __init__(self, tuning_parameters):\n",
    "\n",
    "        #tuning parameters <- dictionary\n",
    "        self.s = tuning_parameters['s']\n",
    "        self.epsilon = tuning_parameters['epsilon']\n",
    "        self.sensitivity_scaling = tuning_parameters['sensitivity_scaling']\n",
    "\n",
    "        # MCMC parameters\n",
    "        self.max_iter = tuning_parameters['max_iter']\n",
    "        # self.thinning_size = tuning_parameters['thinning_size']\n",
    "        # self.sample_size = tuning_parameters['sample_size']\n",
    "\n",
    "        # some options\n",
    "        self.standardize = tuning_parameters[\"standardization\"]\n",
    "        self.initialization = tuning_parameters[\"initialization\"]\n",
    "\n",
    "    def fit(self, X, y):\n",
    "        self.n, self.p = X.shape\n",
    "        #if self.n >= 100: self.burn_in = 500\n",
    "        # standardize X\n",
    "        if self.standardize is True:\n",
    "            scaler1 = StandardScaler(with_mean=True, with_std=False).fit(X)\n",
    "            X = scaler1.transform(X)\n",
    "\n",
    "            y = y - y.mean()\n",
    "\n",
    "        self.X = X\n",
    "        self.y = y\n",
    "        \n",
    "#         self.xmax = np.max(np.abs(X))\n",
    "#         self.ymax = np.max(np.abs(y))\n",
    "\n",
    "        self.MCMC()\n",
    "\n",
    "   \n",
    "\n",
    "    def draw_q(self, S):\n",
    "        S1 = S.copy()\n",
    "        s = S.sum()\n",
    "        idx_0 = np.where(S1 == 0)[0]\n",
    "        idx_1 = np.where(S1 == 1)[0]\n",
    "        S1[np.random.choice(idx_1, 1)] = 0\n",
    "        S1[np.random.choice(idx_0, 1)] = 1\n",
    "\n",
    "        return S1\n",
    "\n",
    "    def OLS_pred_and_pi_n(self, S):\n",
    "        X_S = self.X[:, S == 1]\n",
    "        y = self.y\n",
    "\n",
    "        reg = LR(fit_intercept=False).fit(X_S, y)  # what happens when singular\n",
    "        Y_S = reg.predict(X_S)\n",
    "\n",
    "        epsilon = self.epsilon\n",
    "        #sigma2 = self.sigma2_hat\n",
    "        # gamma = self.gamma\n",
    "        Du = self.sensitivity_scaling #2 * self.ymax**2 + 2 * self.s * (self.xmax**2) *  self.sensitivity_scaling * sigma2\n",
    "        # s = S.sum()\n",
    "        log_pi_n =  - epsilon * np.linalg.norm(y - Y_S) ** 2/(\n",
    "            2*Du)  # np.log(gamma + alpha/sigma2)\n",
    "        return Y_S, log_pi_n\n",
    "\n",
    "    def initialize(self):\n",
    "        \n",
    "        S = np.zeros(self.p)\n",
    "        # #S[np.random.choice(self.p, self.s, replace= False)] = 1\n",
    "        # S[0:s] = 1\n",
    "        # S[np.random.choice(self.s, 2, replace= False)] = 0\n",
    "        # S[self.s] = 1; S[self.s+1] = 1\n",
    "        # # use lasso to get S and estimate of sigma^2\n",
    "        \n",
    "        \n",
    "        if self.initialization == \"Lasso\":\n",
    "            reg = LassoCV(n_alphas=100, fit_intercept=False,\n",
    "                          cv=5, max_iter=2000).fit(self.X, self.y)\n",
    "            scores = np.abs(reg.coef_)\n",
    "            s_max_scores_id = np.argsort(scores)[::-1][:s]\n",
    "            S[s_max_scores_id] = 1\n",
    "        \n",
    "        if self.initialization == \"MS\":\n",
    "            c = X.T@y/self.n\n",
    "            c1 = np.abs(c)\n",
    "            c2 = np.argsort(c1)[::-1][:s]\n",
    "            S[c2] = 1\n",
    "        \n",
    "        else: S[np.random.choice(self.p, self.s, replace= False)] = 1\n",
    "        \n",
    "        self.initial_state = S\n",
    "        # S = 1 * (reg.coef_ != 0)\n",
    "        # if S.sum()==0: S[np.random.choice(self.p, 1)] = 1\n",
    "        # if S.sum()>=self.n:\n",
    "        #     num = np.min([S.sum()/2, self.n/2])\n",
    "        #     S[np.random.choice(self.p, int(num), replace = False)] = 0\n",
    "        #y_hat = reg.predict(self.X)\n",
    "        \n",
    "        #self.sigma2_hat = ((self.y- y_hat)**2).mean()\n",
    "        self.S = S\n",
    "        \n",
    "        \n",
    "        return S\n",
    "\n",
    "    def MCMC(self):\n",
    "        max_iter = self.max_iter\n",
    "        # thinning_size = self.thinning_size\n",
    "        # m = self.sample_size  # number of samples\n",
    "        # max_iter = burn_in + m * thinning_size\n",
    "\n",
    "        # initialize\n",
    "        S = self.initialize()\n",
    "        self.S_list = np.array([self.S])\n",
    "        Y_S, log_pi_n = self.OLS_pred_and_pi_n(self.S)\n",
    "        self.Y_S_list = np.array([Y_S])\n",
    "        self.log_pi_n_list = [log_pi_n]\n",
    "        self.RSS = np.array([np.linalg.norm(self.y - Y_S)**2/np.linalg.norm(self.y)**2])\n",
    "        #self.F1 = [0]\n",
    "\n",
    "        # final collection objects\n",
    "        #S_samples = np.array([self.S])  # finally (m+1)Xp\n",
    "        \n",
    "\n",
    "        S = self.S\n",
    "        y = self.y\n",
    "\n",
    "        iter1 = 0\n",
    "        no_acceptances = 0\n",
    "\n",
    "        while (iter1 < max_iter):\n",
    "\n",
    "            # proposal draw\n",
    "            S_new = self.draw_q(S)\n",
    "\n",
    "            # check if this S has already been seen\n",
    "            idx = compare_to_rows(self.S_list, S_new)\n",
    "            if idx == -1:\n",
    "                Y_S_new, log_pi_n_new = self.OLS_pred_and_pi_n(S_new)\n",
    "                self.S_list = np.vstack((self.S_list, S_new))\n",
    "                self.Y_S_list = np.vstack((self.Y_S_list, Y_S_new))\n",
    "                self.log_pi_n_list.append(log_pi_n_new)\n",
    "                self.RSS = np.vstack((self.RSS, np.linalg.norm(self.y - Y_S_new)**2/np.linalg.norm(self.y)**2))\n",
    "                #print(np.linalg.norm(self.y - Y_S_new)**2/np.linalg.norm(self.y)**2)\n",
    "                \n",
    "            else:\n",
    "                Y_S_new = self.Y_S_list[idx]\n",
    "                log_pi_n_new = self.log_pi_n_list[idx]\n",
    "\n",
    "            # compute hastings ratio\n",
    "            R = np.min([1, np.exp(log_pi_n_new - log_pi_n)])\n",
    "            if stats.uniform.rvs() <= R:\n",
    "                # accept\n",
    "                S = S_new\n",
    "                log_pi_n = log_pi_n_new\n",
    "                no_acceptances += 1\n",
    "\n",
    "            # if (iter1 >= burn_in) and ((iter1-burn_in) % thinning_size == 0):\n",
    "            #     S_samples = np.vstack((S_samples, S))\n",
    "            #     X_S = self.X[:, S == 1]\n",
    "            #     # reg = LR(fit_intercept=False).fit(X_S, y)\n",
    "            #     # beta = np.zeros(self.p)\n",
    "            #     # beta[np.where(S == 1)[0]] = reg.coef_\n",
    "            #     # beta_samples = np.vstack((beta_samples, beta))\n",
    "\n",
    "            iter1 += 1\n",
    "\n",
    "        #self.S_samples = S_samples\n",
    "        # self.beta_samples = beta_samples\n",
    "        print('acceptance rate is', no_acceptances/iter1)\n",
    "        self.acceptance = no_acceptances \n"
   ]
  },
  {
   "cell_type": "code",
   "execution_count": 249,
   "id": "81e48ac3-e4f2-40b2-8e6a-38b9c443cf58",
   "metadata": {},
   "outputs": [
    {
     "data": {
      "text/plain": [
       "array([3, 1, 0])"
      ]
     },
     "execution_count": 249,
     "metadata": {},
     "output_type": "execute_result"
    }
   ],
   "source": [
    "x = np.array([3,4, 1, 5])\n",
    "idx = np.argsort(x)[::-1][:3]\n",
    "idx\n"
   ]
  },
  {
   "cell_type": "code",
   "execution_count": 46,
   "id": "5d171f77-96ca-4c8e-b0fe-5c69cce41730",
   "metadata": {},
   "outputs": [],
   "source": [
    "# Example\n",
    "np.random.seed(1)\n",
    "n = 900\n",
    "p = 2000\n",
    "s = 10\n",
    "rho = 0.0\n",
    "Sigma = np.eye(p)*(1-rho) + rho * np.ones((p, p))\n",
    "X = np.random.uniform(-1, 1, n*p).reshape(n,p)\n",
    "beta = np.zeros(p)\n",
    "beta[0:s] = 2 * np.sqrt(s * np.log(p)/n)\n",
    "\n",
    "#scaler1 = StandardScaler(with_mean=True, with_std=False).fit(X)\n",
    "#X = scaler1.transform(X)\n",
    "#X = X\n",
    "e = np.random.uniform(-1,1,n)\n",
    "e1 = e/ np.linalg.norm(e)\n",
    "y = X @ beta + e\n",
    "\n",
    "\n"
   ]
  },
  {
   "cell_type": "code",
   "execution_count": 87,
   "id": "e759450d-8f1b-4112-b1ac-4e11dc56fc27",
   "metadata": {},
   "outputs": [
    {
     "data": {
      "text/plain": [
       "20.97376570520332"
      ]
     },
     "execution_count": 87,
     "metadata": {},
     "output_type": "execute_result"
    }
   ],
   "source": [
    "#scaler1 = StandardScaler(with_mean=True, with_std=False).fit(X)\n",
    "#X = scaler1.transform(X)\n",
    "\n",
    "S2 = np.zeros(p)\n",
    "idx = np.random.choice(p, s, replace = False) \n",
    "S2[idx] = 1\n",
    "X_S2 = X[: , S2==1]\n",
    "lm = LR(fit_intercept=False).fit(X_S2, y)\n",
    "beta_hat = lm.coef_\n",
    "np.sum(np.abs(beta_hat))\n",
    "( np.abs(y).max() + np.abs(X).max()* np.abs(beta_hat).sum())**2\n"
   ]
  },
  {
   "cell_type": "code",
   "execution_count": 109,
   "id": "c4fe2b11-1665-438c-92c9-f16cfa82c3af",
   "metadata": {},
   "outputs": [],
   "source": [
    "tuning_parameters = {'epsilon': 5,\n",
    "                     'sensitivity_scaling': 20,\n",
    "                     's'      : s,\n",
    "                     'max_iter': 2000,\n",
    "                    'initialization': 'Random',\n",
    "                    'standardization': True}\n",
    "\n",
    "model = ebreg(tuning_parameters)\n",
    "\n",
    "# start = time.time()\n",
    "# model.fit(X, y)\n",
    "# end = time.time()\n",
    "# print(end - start)\n",
    "\n",
    "def fit_MCMC(i):\n",
    "    model.fit(X,y)\n",
    "    S_hat = np.where(model.S_list[-1]>0)[0]\n",
    "    S = np.where(beta!=0)[0]\n",
    "    prec = len(np.intersect1d(S_hat, S))/max(1,len(S_hat))\n",
    "    recall = len(np.intersect1d(S_hat, S))/len(S)\n",
    "    F1 = 2/(1/prec + 1/recall)\n",
    "    return {'RSS': model.RSS, 'F1': F1}\n",
    "    \n",
    "\n",
    "num_chains = 3 \n",
    "from joblib import Parallel, delayed\n",
    "\n",
    "results = Parallel(n_jobs=2)(delayed(fit_MCMC)(i) for i in range(num_chains))\n",
    "#print(results)  # prints [0, 1, 4, 9, 16, 25, 36, 49, 64, 81]\n",
    "\n",
    "\n",
    "\n",
    "\n",
    "# Y_hat_mat = X @ model.beta_samples.T\n",
    "# Y_hat_mean = Y_hat_mat.mean(axis=1)\n",
    "# print('mean prediction error=', np.linalg.norm(Y_hat_mean - y)**2 / n)\n",
    "\n",
    "# # lasso prediction\n",
    "# beta_lasso = model.beta_samples[0]\n",
    "# y_hat_lasso = X @ beta_lasso\n",
    "# print('lasso pred=', np.linalg.norm(y_hat_lasso - y)**2 / n)\n",
    "\n",
    "#S_size = model.S_samples.sum(axis=1)\n",
    "#plt.plot(range(len(S_size)), S_size)\n",
    "\n",
    "# prediciton errors"
   ]
  },
  {
   "cell_type": "code",
   "execution_count": 127,
   "id": "ab4e82eb-3ef3-4a36-9cc2-bfd7583f4cdb",
   "metadata": {},
   "outputs": [],
   "source": [
    "from abess.linear import LinearRegression\n",
    "\n",
    "\n",
    "model_abess = LinearRegression(support_size = s)\n",
    "model_abess.fit(X, y)\n",
    "S_abess = np.where(model_abess.coef_!=0)[0]\n",
    "S = np.where(beta!=0)[0]\n",
    "prec = len(np.intersect1d(S_abess, S))/max(1,len(S_abess))\n",
    "recall = len(np.intersect1d(S_abess, S))/len(S)\n",
    "F1_abess = 2/(1/prec + 1/recall)\n",
    "F1_abess\n",
    "RSS_abess = np.linalg.norm(y - X@model_abess.coef_)**2/np.linalg.norm(y)**2\n",
    "RSS_true = np.linalg.norm(y - X@beta)**2/np.linalg.norm(y)**2"
   ]
  },
  {
   "cell_type": "code",
   "execution_count": 160,
   "id": "55370c11-d201-4ce6-9f84-2be28f6c3108",
   "metadata": {},
   "outputs": [
    {
     "data": {
      "image/png": "[encoded data removed]",
      "text/plain": [
       "<Figure size 432x288 with 1 Axes>"
      ]
     },
     "metadata": {
      "needs_background": "light"
     },
     "output_type": "display_data"
    }
   ],
   "source": [
    "for i in range(num_chains):\n",
    "    RSS = results[i]['RSS']\n",
    "    if i==0: plt.plot(range(len(RSS)), (1-RSS), color = 'grey', alpha = 0.3, label = '$R_{\\gamma_{BSS}}(\\epsilon = $' + \n",
    "                      str(tuning_parameters['epsilon']) + ')')\n",
    "    else: plt.plot(range(len(RSS)), (1-RSS), color = 'grey', alpha = 0.3)\n",
    "plt.ylim(ymax= 1)\n",
    "plt.axhline(y = 1- RSS_abess, color = 'r', linestyle = '--', label = '$R_{\\gamma_{BSS}}(non-private)$')\n",
    "plt.axhline(y = 1- RSS_true, color = 'b', linestyle = '--', label = '$R_{\\gamma^*}$')\n",
    "plt.xlabel('iterations', size = 13)\n",
    "plt.ylabel('$R_\\gamma$', size = 13)\n",
    "\n",
    "#plt.yscale('log')  \n",
    "plt.xscale('log')\n",
    "plt.legend(fontsize = 10)\n",
    "#plt.show()\n",
    "name = 'Uniform_design_multiple_MH_chain_'+str(num_chains)+'_s_'+str(s)+'_p_'+str(p)+'_n_'+str(n)+'.pdf'\n",
    "plt.savefig(name)"
   ]
  },
  {
   "cell_type": "code",
   "execution_count": 144,
   "id": "5bb64bc6-edc1-4da0-aad5-1ac339995216",
   "metadata": {},
   "outputs": [
    {
     "data": {
      "text/plain": [
       "[0.5, 0.4, 0.5]"
      ]
     },
     "execution_count": 144,
     "metadata": {},
     "output_type": "execute_result"
    }
   ],
   "source": [
    "[results[i]['F1'] for i in range(num_chains)]"
   ]
  },
  {
   "cell_type": "code",
   "execution_count": 284,
   "id": "8cf03962-b99d-4aa1-8243-3d1d907ff9b6",
   "metadata": {},
   "outputs": [
    {
     "data": {
      "text/plain": [
       "array([0., 1., 0., 1., 0., 0., 0., 1., 1., 0.])"
      ]
     },
     "execution_count": 284,
     "metadata": {},
     "output_type": "execute_result"
    }
   ],
   "source": [
    " model.S_list[-1][:10]"
   ]
  },
  {
   "cell_type": "code",
   "execution_count": 181,
   "id": "5d6dcd33-7a68-446d-8d93-c20e47580044",
   "metadata": {},
   "outputs": [
    {
     "data": {
      "text/plain": [
       "array([0., 0., 0., 0., 0., 0., 0., 0., 0., 0.])"
      ]
     },
     "execution_count": 181,
     "metadata": {},
     "output_type": "execute_result"
    }
   ],
   "source": [
    "model.initial_state[:10]"
   ]
  },
  {
   "cell_type": "code",
   "execution_count": 230,
   "id": "30eca7a0-2954-4a1e-a22b-bd1ec692e82e",
   "metadata": {},
   "outputs": [
    {
     "data": {
      "text/plain": [
       "[<matplotlib.lines.Line2D at 0x7fc843c9cd90>]"
      ]
     },
     "execution_count": 230,
     "metadata": {},
     "output_type": "execute_result"
    },
    {
     "data": {
      "image/png": "[encoded data removed]",
      "text/plain": [
       "<Figure size 432x288 with 1 Axes>"
      ]
     },
     "metadata": {
      "needs_background": "light"
     },
     "output_type": "display_data"
    }
   ],
   "source": [
    "pi = model.log_pi_n_list\n",
    "\n",
    "plt.plot(range(len(pi)), pi)"
   ]
  },
  {
   "cell_type": "code",
   "execution_count": 24,
   "id": "2f760a23-940e-41e4-aabd-46af997b6b68",
   "metadata": {},
   "outputs": [
    {
     "ename": "AttributeError",
     "evalue": "'ebreg' object has no attribute 'RSS'",
     "output_type": "error",
     "traceback": [
      "\u001b[0;31m---------------------------------------------------------------------------\u001b[0m",
      "\u001b[0;31mAttributeError\u001b[0m                            Traceback (most recent call last)",
      "Input \u001b[0;32mIn [24]\u001b[0m, in \u001b[0;36m<cell line: 1>\u001b[0;34m()\u001b[0m\n\u001b[0;32m----> 1\u001b[0m RSS \u001b[38;5;241m=\u001b[39m \u001b[43mmodel\u001b[49m\u001b[38;5;241;43m.\u001b[39;49m\u001b[43mRSS\u001b[49m\n\u001b[1;32m      2\u001b[0m plt\u001b[38;5;241m.\u001b[39mplot(\u001b[38;5;28mrange\u001b[39m(\u001b[38;5;28mlen\u001b[39m(RSS)), \u001b[38;5;241m1\u001b[39m\u001b[38;5;241m-\u001b[39mRSS)\n\u001b[1;32m      3\u001b[0m np\u001b[38;5;241m.\u001b[39mwhere(RSS \u001b[38;5;241m==\u001b[39m RSS\u001b[38;5;241m.\u001b[39mmin())\n",
      "\u001b[0;31mAttributeError\u001b[0m: 'ebreg' object has no attribute 'RSS'"
     ]
    }
   ],
   "source": [
    "RSS = model.RSS\n",
    "plt.plot(range(len(RSS)), 1-RSS)\n",
    "np.where(RSS == RSS.min())"
   ]
  },
  {
   "cell_type": "code",
   "execution_count": 257,
   "id": "cb1d8523-3811-42d8-8b45-442321526477",
   "metadata": {},
   "outputs": [
    {
     "data": {
      "text/plain": [
       "0.3"
      ]
     },
     "execution_count": 257,
     "metadata": {},
     "output_type": "execute_result"
    }
   ],
   "source": [
    "S_hat = np.where(model.S_list[-1]>0)[0]\n",
    "S = np.where(beta!=0)[0]\n",
    "prec = len(np.intersect1d(S_hat, S))/len(S_hat)\n",
    "recall = len(np.intersect1d(S_hat, S))/len(S)\n",
    "F1 = 2/(1/prec + 1/recall)\n",
    "F1"
   ]
  },
  {
   "cell_type": "code",
   "execution_count": 132,
   "id": "e1ffb5df-9907-4576-a5b4-d2f67338d731",
   "metadata": {},
   "outputs": [
    {
     "data": {
      "text/plain": [
       "{'epsilon': 5,\n",
       " 'sensitivity_scaling': 40,\n",
       " 's': 10,\n",
       " 'burn_in': 5000,\n",
       " 'thinning_size': 3,\n",
       " 'sample_size': 500,\n",
       " 'initialization': 'Random',\n",
       " 'standardization': True}"
      ]
     },
     "execution_count": 132,
     "metadata": {},
     "output_type": "execute_result"
    }
   ],
   "source": [
    "tuning_parameters"
   ]
  },
  {
   "cell_type": "code",
   "execution_count": 143,
   "id": "5589e73a-20e5-4ff6-811a-02a79a8bfc0c",
   "metadata": {},
   "outputs": [
    {
     "data": {
      "text/plain": [
       "1"
      ]
     },
     "execution_count": 143,
     "metadata": {},
     "output_type": "execute_result"
    }
   ],
   "source": [
    "x = [\"a\", \"b\"]\n",
    "y = [\"a\",\"c\"]\n",
    "len(np.intersect1d(x,y))"
   ]
  },
  {
   "cell_type": "code",
   "execution_count": 57,
   "id": "7fa09317-9c9b-47f6-b650-dd5538a52917",
   "metadata": {},
   "outputs": [],
   "source": [
    "model = ebreg(tuning_parameters)"
   ]
  },
  {
   "cell_type": "code",
   "execution_count": 61,
   "id": "702f65d7-e97e-4562-9459-f2f644e47e98",
   "metadata": {},
   "outputs": [
    {
     "data": {
      "text/plain": [
       "500"
      ]
     },
     "execution_count": 61,
     "metadata": {},
     "output_type": "execute_result"
    }
   ],
   "source": [
    "model.burn_in"
   ]
  },
  {
   "cell_type": "code",
   "execution_count": 114,
   "id": "28c4d251-5f86-4258-b964-b63b992a6763",
   "metadata": {},
   "outputs": [
    {
     "data": {
      "text/plain": [
       "array([  6,   8,   3,   2,   9,   5, 726,   7,   1, 187])"
      ]
     },
     "execution_count": 114,
     "metadata": {},
     "output_type": "execute_result"
    }
   ],
   "source": [
    "c = X.T@y\n",
    "c1 = np.abs(c)\n",
    "S1 = np.argsort(c1)[::-1][:10]\n",
    "S1"
   ]
  },
  {
   "cell_type": "code",
   "execution_count": 137,
   "id": "b6f546ed-a692-4a7c-aa41-0adfb8fda76e",
   "metadata": {},
   "outputs": [
    {
     "data": {
      "text/plain": [
       "59.23274651218215"
      ]
     },
     "execution_count": 137,
     "metadata": {},
     "output_type": "execute_result"
    }
   ],
   "source": [
    "np.abs(y).max()"
   ]
  },
  {
   "cell_type": "code",
   "execution_count": 243,
   "id": "005525d2-4b38-4441-83e0-861dda38520e",
   "metadata": {},
   "outputs": [
    {
     "name": "stdout",
     "output_type": "stream",
     "text": [
      "0\n"
     ]
    }
   ],
   "source": [
    "l = np.array([1,2,3])\n",
    "x = np.array([l, 2 * l])\n",
    "if np.any(np.all(x==l, axis = 1)) == True:\n",
    "    print(np.where(np.all(x==l, axis = 1) == True)[0][0])\n"
   ]
  },
  {
   "cell_type": "code",
   "execution_count": 261,
   "id": "2d4cf5eb-625e-4134-a74b-6816223d4a40",
   "metadata": {},
   "outputs": [
    {
     "data": {
      "text/plain": [
       "array([ 1.83588632,  0.31872833, -1.20158633, -0.41944682, -2.38267039,\n",
       "       -0.25850315,  1.61880612, -1.2992495 ,  0.42784656,  0.46744436])"
      ]
     },
     "execution_count": 261,
     "metadata": {},
     "output_type": "execute_result"
    }
   ],
   "source": [
    "from abess.linear import LinearRegression\n",
    "\n",
    "np.random.seed(12345)\n",
    "\n",
    "model = LinearRegression(support_size = 10)\n",
    "model.fit(X, y)\n",
    "#LinearRegression(support_size=10)\n",
    "model.predict(X)[:10]\n",
    "\n",
    "\n"
   ]
  },
  {
   "cell_type": "code",
   "execution_count": 269,
   "id": "79874ebb-1840-48b1-9bd7-b286b01f8db4",
   "metadata": {},
   "outputs": [
    {
     "data": {
      "text/plain": [
       "array([0, 1, 2, 3, 4, 5, 6, 7, 8, 9])"
      ]
     },
     "execution_count": 269,
     "metadata": {},
     "output_type": "execute_result"
    }
   ],
   "source": [
    "np.where(model.coef_[:20]!=0)[0]"
   ]
  },
  {
   "cell_type": "code",
   "execution_count": 266,
   "id": "c7c57058-f97e-4875-8a9a-48a29f774e8f",
   "metadata": {},
   "outputs": [
    {
     "data": {
      "text/plain": [
       "array([0.87183155, 0.87183155, 0.87183155, 0.87183155, 0.87183155,\n",
       "       0.87183155, 0.87183155, 0.87183155, 0.87183155, 0.87183155,\n",
       "       0.        , 0.        , 0.        , 0.        , 0.        ,\n",
       "       0.        , 0.        , 0.        , 0.        , 0.        ])"
      ]
     },
     "execution_count": 266,
     "metadata": {},
     "output_type": "execute_result"
    }
   ],
   "source": [
    "beta[:20]"
   ]
  },
  {
   "cell_type": "code",
   "execution_count": 278,
   "id": "39628fe8-7a24-47bf-8589-7dfec831afbf",
   "metadata": {},
   "outputs": [
    {
     "name": "stdout",
     "output_type": "stream",
     "text": [
      "[0, 1, 4, 9, 16, 25, 36, 49, 64, 81]\n"
     ]
    }
   ],
   "source": [
    "from joblib import Parallel, delayed\n",
    "def process(i):\n",
    "    return i * i\n",
    "    \n",
    "results = Parallel(n_jobs=2)(delayed(process)(i) for i in range(10))\n",
    "print(results)  # prints [0, 1, 4, 9, 16, 25, 36, 49, 64, 81]\n"
   ]
  },
  {
   "cell_type": "code",
   "execution_count": 97,
   "id": "34fba14f-a345-41f5-a244-9d1ac73efef2",
   "metadata": {},
   "outputs": [
    {
     "data": {
      "text/plain": [
       "2"
      ]
     },
     "execution_count": 97,
     "metadata": {},
     "output_type": "execute_result"
    }
   ],
   "source": [
    "max(1,2)"
   ]
  },
  {
   "cell_type": "code",
   "execution_count": null,
   "id": "54aae6ad-2eca-40b3-9532-b6f70a0741b5",
   "metadata": {},
   "outputs": [],
   "source": []
  }
 ],
 "metadata": {
  "kernelspec": {
   "display_name": "Python 3 (ipykernel)",
   "language": "python",
   "name": "python3"
  },
  "language_info": {
   "codemirror_mode": {
    "name": "ipython",
    "version": 3
   },
   "file_extension": ".py",
   "mimetype": "text/x-python",
   "name": "python",
   "nbconvert_exporter": "python",
   "pygments_lexer": "ipython3",
   "version": "3.9.12"
  }
 },
 "nbformat": 4,
 "nbformat_minor": 5
}
